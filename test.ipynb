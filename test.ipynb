{
 "cells": [
  {
   "cell_type": "code",
   "execution_count": 1,
   "metadata": {},
   "outputs": [
    {
     "name": "stderr",
     "output_type": "stream",
     "text": [
      "e:\\rag_pdf_surajit\\pdf_query\\venv\\lib\\site-packages\\tqdm\\auto.py:21: TqdmWarning: IProgress not found. Please update jupyter and ipywidgets. See https://ipywidgets.readthedocs.io/en/stable/user_install.html\n",
      "  from .autonotebook import tqdm as notebook_tqdm\n"
     ]
    }
   ],
   "source": [
    "from unstructured.partition.pdf import partition_pdf\n",
    "\n",
    "elements_fast = partition_pdf(\"FutureSmart AI .pdf\", strategy=\"fast\")"
   ]
  },
  {
   "cell_type": "code",
   "execution_count": 3,
   "metadata": {},
   "outputs": [
    {
     "name": "stdout",
     "output_type": "stream",
     "text": [
      "FutureSmart AI provides custom Natural Language Processing (NLP) solutions for companies looking to get ahead of the future. Our dedicated team of Data Scientists and ML Engineers provides an end- to-end solution from data labeling to modeling and deploying an ML model tailored to your specific use case.\n",
      "\n",
      "Founder: Pradip Nichite\n",
      "\n",
      "Services:\n",
      "\n",
      "Text Classification At FutureSmart AI, we develop custom text classification solutions using advanced NLP techniques tailored to your specific business requirements. Leveraging Python, Pytorch, and Hugging Face transformers, we enable precise data categorization across applications such as intent detection, document categorization, and sentiment analysis, enhancing your decision-making processes and operational efficiency.\n",
      "\n",
      "Chatbots We specialize in creating custom chatbots that integrate seamlessly with your business environment. Using semantic search and large language models, our chatbots deliver accurate, context-aware responses, and can interface with both internal and external APIs. A tailored dashboard allows for continuous monitoring and updating, ensuring the chatbot evolves with your business needs.\n",
      "\n",
      "Automating Support Tickets FutureSmart AI offers bespoke solutions for automating support ticket management, employing NLP to analyze, categorize, and prioritize inquiries effectively. Our customized systems enhance response efficiency and accuracy, improving overall customer satisfaction while reducing response times.\n",
      "\n",
      "NL2SQL Our NL2SQL services transform how you interact with your databases. By customizing solutions that allow natural language querying, we make data access straightforward and intuitive, complete with visualizations to aid in understanding complex datasets.\n",
      "\n",
      "Speech to Text\n",
      "\n",
      "FutureSmart AI provides customized speech to text services, employing cutting- edge speech recognition technologies to cater to specific client needs. Ideal for creating efficient documentation and enabling voice-driven commands, this solution boosts productivity and accessibility.\n"
     ]
    }
   ],
   "source": [
    "print(\"\\n\\n\".join([str(el) for el in elements_fast]))"
   ]
  },
  {
   "cell_type": "code",
   "execution_count": 9,
   "metadata": {},
   "outputs": [
    {
     "name": "stdout",
     "output_type": "stream",
     "text": [
      "FutureSmart AI provides custom Natural Language Processing (NLP) solutions for companies looking to get ahead of the future. Our dedicated team of Data Scientists and ML Engineers provides an end- to-end solution from data labeling to modeling and deploying an ML model tailored to your specific use case.Founder: Pradip NichiteServices:Text Classification At FutureSmart AI, we develop custom text classification solutions using advanced NLP techniques tailored to your specific business requirements. Leveraging Python, Pytorch, and Hugging Face transformers, we enable precise data categorization across applications such as intent detection, document categorization, and sentiment analysis, enhancing your decision-making processes and operational efficiency.Chatbots We specialize in creating custom chatbots that integrate seamlessly with your business environment. Using semantic search and large language models, our chatbots deliver accurate, context-aware responses, and can interface with both internal and external APIs. A tailored dashboard allows for continuous monitoring and updating, ensuring the chatbot evolves with your business needs.Automating Support Tickets FutureSmart AI offers bespoke solutions for automating support ticket management, employing NLP to analyze, categorize, and prioritize inquiries effectively. Our customized systems enhance response efficiency and accuracy, improving overall customer satisfaction while reducing response times.NL2SQL Our NL2SQL services transform how you interact with your databases. By customizing solutions that allow natural language querying, we make data access straightforward and intuitive, complete with visualizations to aid in understanding complex datasets.Speech to TextFutureSmart AI provides customized speech to text services, employing cutting- edge speech recognition technologies to cater to specific client needs. Ideal for creating efficient documentation and enabling voice-driven commands, this solution boosts productivity and accessibility.\n",
      "2030\n"
     ]
    }
   ],
   "source": [
    "content = \"\"\n",
    "characters = 0\n",
    "\n",
    "for element in elements_fast:\n",
    "    content += str(element)\n",
    "    characters += len(str(element))\n",
    "\n",
    "print(content)\n",
    "print(characters)"
   ]
  },
  {
   "cell_type": "code",
   "execution_count": 6,
   "metadata": {},
   "outputs": [
    {
     "name": "stdout",
     "output_type": "stream",
     "text": [
      "Rudra was a small boy with large, curious eyes and a heart full of dreams. He lived in a quaint village nestled between rolling hills and whispering forests. Despite the vibrant life around him, Rudra was known for his shyness. He spoke little and preferred the company of books and nature over people.\n",
      "\n",
      "Every morning, Rudra would walk to the village school, clutching his worn-out satchel. The path was lined with blooming flowers, and he would often stop to admire their colors and fragrance. To him, they seemed like friends, silently sharing their beauty without demanding anything in return.\n",
      "\n",
      "At school, Rudra was a diligent student. He loved to learn, losing himself in the worlds of history and science. But when it came to speaking up in class or playing with his classmates, he felt a lump in his throat and a heaviness in his chest. The other children, though friendly, couldn't understand his silence. They would call out to him, inviting him to join their games, but he would always decline with a shy smile and a shake of his head.\n",
      "\n",
      "One afternoon, as the school bell rang, Rudra noticed a poster on the notice board. The annual village storytelling competition was just a week away. The winner would receive a shiny trophy and a stack of new books. Rudra's heart skipped a beat. He loved stories, both reading and writing them. But the thought of standing in front of an audience made his palms sweat.\n",
      "\n",
      "That evening, Rudra sat by his favorite tree in the forest, thinking about the competition. The wind rustled the leaves above, creating a soothing melody. He took out his notebook and started writing a story, pouring his heart into every word. It was about a brave little bird who found its voice despite all odds. As he wrote, Rudra felt a spark of courage ignite within him.\n",
      "\n",
      "Days passed, and Rudra kept writing. He practiced reading his story aloud to the trees and flowers, imagining them as his audience. His confidence grew, bit by bit, though the fear of the actual competition still loomed large.\n",
      "\n",
      "On the day of the competition, Rudra's parents wished him luck, their eyes filled with pride. He walked to the village hall, his heart pounding in his chest. The hall was buzzing with excitement, filled with children and parents. Rudra took a deep breath and reminded himself of the little bird in his story.\n",
      "\n",
      "When it was his turn, he walked onto the stage, feeling the weight of a hundred eyes on him. His hands trembled as he held his notebook. He looked at the audience, then at his story, and took another deep breath.\n",
      "\n",
      "As he began to read, his voice was shaky, but the words flowed. He told the tale of the brave little bird, each word a step towards overcoming his own shyness. The hall fell silent, captivated by the \n",
      "\n",
      "\n",
      "\n",
      "story and the earnestness in Rudra's voice. By the time he finished, he felt a wave of relief and pride wash over him. The audience erupted in applause, and for the first time, Rudra felt the warmth of their appreciation.\n",
      "\n",
      "Rudra didn't win the first prize that day, but he won something far more valuable – the courage to step out of his shell. The villagers now saw him in a new light, not just as the shy boy, but as a storyteller with a heart full of dreams.\n",
      "\n",
      "From that day on, Rudra still cherished his quiet moments, but he no longer shied away from sharing his voice. He learned that sometimes, all it takes to overcome fear is a single brave step, and that even the shyest of hearts can find their song.\n"
     ]
    }
   ],
   "source": [
    "from unstructured.partition.docx import partition_docx\n",
    "\n",
    "elements_doc = partition_docx(\"rudra_story.docx\", strategy=\"fast\")\n",
    "\n",
    "print(\"\\n\\n\".join([str(el) for el in elements_doc]))"
   ]
  },
  {
   "cell_type": "code",
   "execution_count": null,
   "metadata": {},
   "outputs": [],
   "source": []
  }
 ],
 "metadata": {
  "kernelspec": {
   "display_name": "venv",
   "language": "python",
   "name": "python3"
  },
  "language_info": {
   "codemirror_mode": {
    "name": "ipython",
    "version": 3
   },
   "file_extension": ".py",
   "mimetype": "text/x-python",
   "name": "python",
   "nbconvert_exporter": "python",
   "pygments_lexer": "ipython3",
   "version": "3.9.13"
  }
 },
 "nbformat": 4,
 "nbformat_minor": 2
}
